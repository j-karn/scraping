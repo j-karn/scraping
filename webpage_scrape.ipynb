{
 "cells": [
  {
   "cell_type": "code",
   "execution_count": 1,
   "id": "better-violin",
   "metadata": {
    "tags": [
     "remove_cell"
    ]
   },
   "outputs": [],
   "source": [
    "from bs4 import BeautifulSoup\n",
    "import requests\n",
    "import re"
   ]
  },
  {
   "cell_type": "code",
   "execution_count": 2,
   "id": "theoretical-variable",
   "metadata": {
    "tags": [
     "remove_cell"
    ]
   },
   "outputs": [],
   "source": [
    "# assign variables destination\n",
    "url = \"https://www.seek.com.au/data-analyst-jobs/in-All-Sydney-NSW/full-time?daterange=1&salaryrange=80000-200000&salarytype=annual&sortmode=ListedDate\"\n",
    "\n",
    "# Grab the details/ content of that url\n",
    "req = requests.get(url)\n"
   ]
  },
  {
   "cell_type": "code",
   "execution_count": 3,
   "id": "peripheral-marks",
   "metadata": {
    "tags": [
     "remove_cell"
    ]
   },
   "outputs": [],
   "source": [
    "soup = BeautifulSoup(req.text, 'html.parser')\n",
    "# Parsers convert the input into single entities known as tokens and further convert the tokens into a graph\n",
    "# or a tree structure for processing"
   ]
  },
  {
   "cell_type": "markdown",
   "id": "operational-documentation",
   "metadata": {
    "tags": [
     "remove_cell"
    ]
   },
   "source": [
    "# Job titles"
   ]
  },
  {
   "cell_type": "code",
   "execution_count": 4,
   "id": "sought-terminal",
   "metadata": {
    "tags": [
     "remove_cell"
    ]
   },
   "outputs": [
    {
     "name": "stdout",
     "output_type": "stream",
     "text": [
      "['SQL Developer', 'Pricing Analyst', 'SQL Server BI/DW Developer', 'Data Analyst', 'Privacy Risk Analyst', 'Manager Business Reporting, Clerk Grade 11/12 - 215198', 'Manager Business Reporting, Clerk Grade 11/12 - 215198', 'Technical Business Analyst', 'Finance Coordinator', 'Compliance Data Analyst - Chatswood', 'Performance Engineer - Python, Quant C++, Network (UDP) ,FPGA, Pricing Data, HFT', 'FPGA Software Eng (C++, Python) Low Latency Trading -AU PR + Relocation Provided', 'IT Support Officer', 'Head of Acquisition and Pricing - Mortgages', 'Data Engineer - Grow your career!', 'Lead Financial Planning & Analyst - APAC', 'Acquisition / Lead Generation Expert', 'Digital Product Manager (B2B)', 'Paid Media Specialist']\n"
     ]
    }
   ],
   "source": [
    "job_titles = []\n",
    "levels = soup.find_all('article', {'class' : '_37iADb_'})\n",
    "for level in levels:\n",
    "    divs = level.find_all('a', {'class' : '_2S5REPk'})\n",
    "    for div in divs:\n",
    "        job_titles.append(div.text)\n",
    "print(job_titles)"
   ]
  },
  {
   "cell_type": "markdown",
   "id": "massive-maker",
   "metadata": {
    "tags": [
     "remove_cell"
    ]
   },
   "source": [
    "# Hirer"
   ]
  },
  {
   "cell_type": "code",
   "execution_count": 5,
   "id": "unique-ridge",
   "metadata": {
    "tags": [
     "remove_cell"
    ]
   },
   "outputs": [
    {
     "name": "stdout",
     "output_type": "stream",
     "text": [
      "['at u&u. Recruitment Partners', \"at O'Brien Glass Industries Limited\", 'at Mane Consulting', 'at Webcentral Group', 'at Rabobank', 'at Department of Education', 'at Department of Education', 'at The Recruitment Alternative: Affordable Recruitment for Small Businesses', 'at TransGrid', 'at Holcim', 'at Westbury Partners', 'at Westbury Partners', 'at CEA', 'at ING', 'at The Recruitment Company', 'at SALT SEARCH PTY LTD', 'at Private Advertiser', 'at Solar Analytics', 'at The-Lowdown Agency']\n"
     ]
    }
   ],
   "source": [
    "hirer = []\n",
    "# levels = soup.find_all('article', {'class' : '_37iADb_'})\n",
    "for level in levels:\n",
    "    hirer_divs = level.find_all('span', {'class' : '_3mgsa7- _15GBVuT _2Ryjovs'})\n",
    "    for hirer_div in hirer_divs:\n",
    "        hirer.append(hirer_div.text)\n",
    "\n",
    "desiredwords = ['at ']\n",
    "hirer = [x for x in hirer if any(word in x for word in desiredwords)]\n",
    "print(hirer)"
   ]
  },
  {
   "cell_type": "markdown",
   "id": "virgin-constraint",
   "metadata": {
    "tags": [
     "remove_cell"
    ]
   },
   "source": [
    "# Job ids"
   ]
  },
  {
   "cell_type": "code",
   "execution_count": 15,
   "id": "unsigned-worst",
   "metadata": {
    "tags": [
     "remove_cell"
    ]
   },
   "outputs": [],
   "source": [
    "mylist = []\n",
    "job_ids_final = soup.find_all(attrs={\"data-job-id\": re.compile(\"^[0-9]{8}$\")})\n",
    "for jif in job_ids_final:\n",
    "    mylist.append(jif[\"data-job-id\"])"
   ]
  },
  {
   "cell_type": "markdown",
   "id": "departmental-excerpt",
   "metadata": {
    "tags": [
     "remove_cell"
    ]
   },
   "source": [
    "# Build URLs"
   ]
  },
  {
   "cell_type": "code",
   "execution_count": 16,
   "id": "sweet-bristol",
   "metadata": {
    "tags": [
     "remove_cell"
    ]
   },
   "outputs": [],
   "source": [
    "# Put Python loop output in a list\n",
    "# https://stackoverflow.com/questions/39322625/how-to-put-python-loop-output-in-a-list/39323039\n",
    "base_url = 'https://www.seek.com.au/job/'\n",
    "dest_url = []\n",
    "for myl in mylist:\n",
    "    dest_url.append(base_url + myl)"
   ]
  },
  {
   "cell_type": "markdown",
   "id": "exact-wealth",
   "metadata": {
    "tags": [
     "remove_cell"
    ]
   },
   "source": [
    "# Scrape job details"
   ]
  },
  {
   "cell_type": "code",
   "execution_count": 17,
   "id": "electrical-packet",
   "metadata": {
    "tags": [
     "remove_cell"
    ]
   },
   "outputs": [],
   "source": [
    "#dest_url\n",
    "jd1 = []\n",
    "for dtl in dest_url:\n",
    "    requestcheck = requests.get(dtl)\n",
    "    parser = BeautifulSoup(requestcheck.text, 'html.parser')\n",
    "    jd2 = parser.find_all('div', {'class' : 'FYwKg PrHFr _1EtT-_4'})\n",
    "    for j in jd2:\n",
    "        jd1.append(j.text)\n",
    "#print(jd1)"
   ]
  },
  {
   "cell_type": "code",
   "execution_count": 18,
   "id": "stylish-incident",
   "metadata": {
    "tags": [
     "remove_cell"
    ]
   },
   "outputs": [],
   "source": [
    "# splitting a list above into sublists after 'Full time' text\n",
    "jd3 = [i.strip().split(' ') for i in ' '.join(jd1).split('Full Time') if len(i) > 0 ]\n",
    "#print(jd3)"
   ]
  },
  {
   "cell_type": "code",
   "execution_count": 19,
   "id": "express-bloom",
   "metadata": {
    "tags": [
     "remove_cell"
    ]
   },
   "outputs": [],
   "source": [
    "# function to convert / combine list into string\n",
    "from itertools import chain\n",
    "\n",
    "def collapse(lst):\n",
    "    return ' ' .join(chain.from_iterable(lst))"
   ]
  },
  {
   "cell_type": "code",
   "execution_count": 20,
   "id": "clear-flash",
   "metadata": {
    "tags": [
     "remove_cell"
    ]
   },
   "outputs": [],
   "source": [
    "# Push list through the function to convert to string\n",
    "out = collapse(jd3)\n",
    "#print(out)"
   ]
  },
  {
   "cell_type": "code",
   "execution_count": 21,
   "id": "numerous-miller",
   "metadata": {
    "tags": [
     "remove_cell"
    ]
   },
   "outputs": [],
   "source": [
    "# Converting string back to list after the text 'Sydney'\n",
    "jobdetails = [i.strip() for i in out[6:].split('Sydney') if not i.isspace()]\n"
   ]
  },
  {
   "cell_type": "markdown",
   "id": "verbal-worthy",
   "metadata": {
    "tags": [
     "remove_cell"
    ]
   },
   "source": [
    "# Putting it all together"
   ]
  },
  {
   "cell_type": "code",
   "execution_count": 22,
   "id": "caroline-healing",
   "metadata": {
    "tags": [
     "remove_input"
    ]
   },
   "outputs": [
    {
     "name": "stdout",
     "output_type": "stream",
     "text": [
      "SQL Developer at u&u. Recruitment Partners || Details: CBD, Inner West & Eastern Suburbs Information & Communication Technology Engineering - Software Up to $125,000 - 130,000 Package|| Learn more at: https://www.seek.com.au/job/52617308\n",
      "Pricing Analyst at O'Brien Glass Industries Limited || Details: Accounting Analysis & Reporting|| Learn more at: https://www.seek.com.au/job/52617290\n",
      "SQL Server BI/DW Developer at Mane Consulting || Details: Information & Communication Technology Database Development & Administration|| Learn more at: https://www.seek.com.au/job/52617209\n",
      "Data Analyst at Webcentral Group || Details: CBD, Inner West & Eastern Suburbs Information & Communication Technology Business/Systems Analysts|| Learn more at: https://www.seek.com.au/job/52617138\n",
      "Privacy Risk Analyst at Rabobank || Details: CBD, Inner West & Eastern Suburbs Banking & Financial Services Compliance & Risk|| Learn more at: https://www.seek.com.au/job/52616942\n",
      "Manager Business Reporting, Clerk Grade 11/12 - 215198 at Department of Education || Details: Parramatta & Western Suburbs Education & Training Other|| Learn more at: https://www.seek.com.au/job/52616899\n",
      "Manager Business Reporting, Clerk Grade 11/12 - 215198 at Department of Education || Details: Parramatta & Western Suburbs Government & Defence Government - State|| Learn more at: https://www.seek.com.au/job/52616900\n",
      "Technical Business Analyst at The Recruitment Alternative: Affordable Recruitment for Small Businesses || Details: North Shore & Northern Beaches Information & Communication Technology Business/Systems Analysts|| Learn more at: https://www.seek.com.au/job/52616832\n",
      "Finance Coordinator at TransGrid || Details: CBD, Inner West & Eastern Suburbs Banking & Financial Services Analysis & Reporting|| Learn more at: https://www.seek.com.au/job/52616526\n",
      "Compliance Data Analyst - Chatswood at Holcim || Details: North Shore & Northern Beaches Accounting Management Accounting & Budgeting|| Learn more at: https://www.seek.com.au/job/52616523\n",
      "Performance Engineer - Python, Quant C++, Network (UDP) ,FPGA, Pricing Data, HFT at Westbury Partners || Details: CBD, Inner West & Eastern Suburbs Information & Communication Technology Engineering - Software $180k -> $300++ pkg.|| Learn more at: https://www.seek.com.au/job/52616369\n",
      "FPGA Software Eng (C++, Python) Low Latency Trading -AU PR + Relocation Provided at Westbury Partners || Details: CBD, Inner West & Eastern Suburbs Information & Communication Technology Engineering - Software $180K -> $300k++|| Learn more at: https://www.seek.com.au/job/52616329\n",
      "IT Support Officer at CEA || Details: South West & M5 Corridor Information & Communication Technology Help Desk & IT Support $75,000 - $84,999|| Learn more at: https://www.seek.com.au/job/52616244\n",
      "Head of Acquisition and Pricing - Mortgages at ING || Details: CBD, Inner West & Eastern Suburbs Banking & Financial Services Mortgages|| Learn more at: https://www.seek.com.au/job/52616159\n",
      "Data Engineer - Grow your career! at The Recruitment Company || Details: CBD, Inner West & Eastern Suburbs Information & Communication Technology Developers/Programmers Grow your career, working with exceptional leaders|| Learn more at: https://www.seek.com.au/job/52616014\n",
      "Lead Financial Planning & Analyst - APAC at SALT SEARCH PTY LTD || Details: Accounting Financial Accounting & Reporting $550  + super (per day) + PH paid + more|| Learn more at: https://www.seek.com.au/job/52616008\n",
      "Acquisition / Lead Generation Expert at Private Advertiser || Details: CBD, Inner West & Eastern Suburbs Marketing & Communications Direct Marketing & CRM $75,000 - $84,999|| Learn more at: https://www.seek.com.au/job/52615841\n",
      "Digital Product Manager (B2B) at Solar Analytics || Details: CBD, Inner West & Eastern Suburbs Information & Communication Technology Product Management & Development|| Learn more at: https://www.seek.com.au/job/52615756\n",
      "Paid Media Specialist at The-Lowdown Agency || Details: South West & M5 Corridor Marketing & Communications Digital & Search Marketing $75,000 - $90,000|| Learn more at: https://www.seek.com.au/job/52615195\n"
     ]
    }
   ],
   "source": [
    "for one, two, three, four in zip(job_titles, hirer, jobdetails, dest_url):\n",
    "    final = print(one, two, \"|| Details: \" + three + \"|| Learn more at: \" + four)"
   ]
  },
  {
   "cell_type": "code",
   "execution_count": 25,
   "id": "devoted-certification",
   "metadata": {
    "tags": [
     "remove_cell"
    ]
   },
   "outputs": [],
   "source": [
    "# https://nbconvert.readthedocs.io/en/latest/removing_cells.html\n",
    "# Removing cell in html\n",
    "\n",
    "from traitlets.config import Config\n",
    "import nbformat as nbf\n",
    "from nbconvert.exporters import HTMLExporter\n",
    "from nbconvert.preprocessors import TagRemovePreprocessor\n",
    "\n",
    "# Setup config\n",
    "c = Config()\n",
    "\n",
    "# Configure tag removal - be sure to tag your cells to remove  using the\n",
    "# words remove_cell to remove cells. You can also modify the code to use\n",
    "# a different tag word\n",
    "c.TagRemovePreprocessor.remove_cell_tags = (\"remove_cell\",)\n",
    "c.TagRemovePreprocessor.remove_all_outputs_tags = ('remove_output',)\n",
    "c.TagRemovePreprocessor.remove_input_tags = ('remove_input',)\n",
    "c.TagRemovePreprocessor.enabled = True\n",
    "\n",
    "# Configure and run out exporter\n",
    "c.HTMLExporter.preprocessors = [\"nbconvert.preprocessors.TagRemovePreprocessor\"]\n",
    "\n",
    "exporter = HTMLExporter(config=c)\n",
    "exporter.register_preprocessor(TagRemovePreprocessor(config=c),True)\n",
    "\n",
    "# Configure and run our exporter - returns a tuple - first element with html,\n",
    "# second with notebook metadata\n",
    "output = HTMLExporter(config=c).from_filename(\"webpage_scrape.ipynb\")\n",
    "\n",
    "# Write to output html file\n",
    "with open(\"outputtoemail.html\",  \"w\", encoding='utf-8') as f:\n",
    "    f.write(output[0])"
   ]
  },
  {
   "cell_type": "code",
   "execution_count": null,
   "id": "heard-monte",
   "metadata": {
    "tags": [
     "remove_cell"
    ]
   },
   "outputs": [],
   "source": []
  }
 ],
 "metadata": {
  "celltoolbar": "Tags",
  "kernelspec": {
   "display_name": "Python 3",
   "language": "python",
   "name": "python3"
  },
  "language_info": {
   "codemirror_mode": {
    "name": "ipython",
    "version": 3
   },
   "file_extension": ".py",
   "mimetype": "text/x-python",
   "name": "python",
   "nbconvert_exporter": "python",
   "pygments_lexer": "ipython3",
   "version": "3.8.6"
  }
 },
 "nbformat": 4,
 "nbformat_minor": 5
}
