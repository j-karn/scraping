{
 "cells": [
  {
   "cell_type": "code",
   "execution_count": 31,
   "id": "better-violin",
   "metadata": {
    "tags": [
     "remove_cell"
    ]
   },
   "outputs": [],
   "source": [
    "from bs4 import BeautifulSoup\n",
    "import requests\n",
    "import re"
   ]
  },
  {
   "cell_type": "code",
   "execution_count": 32,
   "id": "theoretical-variable",
   "metadata": {
    "tags": [
     "remove_cell"
    ]
   },
   "outputs": [],
   "source": [
    "# assign variables destination\n",
    "url = \"https://www.seek.com.au/data-analyst-jobs/in-All-Sydney-NSW/full-time?daterange=1&salaryrange=80000-200000&salarytype=annual&sortmode=ListedDate\"\n",
    "\n",
    "# Grab the details/ content of that url\n",
    "req = requests.get(url)\n",
    "\n",
    "# /?keywords=data+analyst&amp;where=All+Sydney+NSW&amp;daterange=1\n",
    "# https://www.seek.com.au/data-analyst-jobs/in-All-Sydney-NSW?daterange=1"
   ]
  },
  {
   "cell_type": "code",
   "execution_count": 33,
   "id": "peripheral-marks",
   "metadata": {
    "tags": [
     "remove_cell"
    ]
   },
   "outputs": [],
   "source": [
    "soup = BeautifulSoup(req.text, 'html.parser')\n",
    "# Parsers convert the input into single entities known as tokens and further convert the tokens into a graph\n",
    "# or a tree structure for processing"
   ]
  },
  {
   "cell_type": "markdown",
   "id": "operational-documentation",
   "metadata": {
    "tags": [
     "remove_cell"
    ]
   },
   "source": [
    "# Job titles"
   ]
  },
  {
   "cell_type": "code",
   "execution_count": 34,
   "id": "sought-terminal",
   "metadata": {
    "tags": [
     "remove_cell"
    ]
   },
   "outputs": [],
   "source": [
    "job_titles = []\n",
    "levels = soup.find_all('article', {'class' : '_37iADb_'})\n",
    "for level in levels:\n",
    "    divs = level.find_all('a', {'class' : '_2S5REPk'})\n",
    "    for div in divs:\n",
    "        job_titles.append(div.text)\n",
    "#print(job_titles)"
   ]
  },
  {
   "cell_type": "markdown",
   "id": "massive-maker",
   "metadata": {
    "tags": [
     "remove_cell"
    ]
   },
   "source": [
    "# Hirer"
   ]
  },
  {
   "cell_type": "code",
   "execution_count": 35,
   "id": "unique-ridge",
   "metadata": {
    "tags": [
     "remove_cell"
    ]
   },
   "outputs": [],
   "source": [
    "hirer = []\n",
    "# levels = soup.find_all('article', {'class' : '_37iADb_'})\n",
    "for level in levels:\n",
    "    hirer_divs = level.find_all('span', {'class' : '_3mgsa7- _15GBVuT _2Ryjovs'})\n",
    "    for hirer_div in hirer_divs:\n",
    "        hirer.append(hirer_div.text)\n",
    "\n",
    "desiredwords = ['at ']\n",
    "hirer = [x for x in hirer if any(word in x for word in desiredwords)]\n",
    "#print(hirer)"
   ]
  },
  {
   "cell_type": "markdown",
   "id": "virgin-constraint",
   "metadata": {
    "tags": [
     "remove_cell"
    ]
   },
   "source": [
    "# Job ids"
   ]
  },
  {
   "cell_type": "code",
   "execution_count": 36,
   "id": "unsigned-worst",
   "metadata": {
    "tags": [
     "remove_cell"
    ]
   },
   "outputs": [],
   "source": [
    "mylist = []\n",
    "job_ids_final = soup.find_all(attrs={\"data-job-id\": re.compile(\"^[0-9]{8}$\")})\n",
    "for jif in job_ids_final:\n",
    "    mylist.append(jif[\"data-job-id\"])\n",
    "#print(mylist)"
   ]
  },
  {
   "cell_type": "markdown",
   "id": "departmental-excerpt",
   "metadata": {
    "tags": [
     "remove_cell"
    ]
   },
   "source": [
    "# Build URLs"
   ]
  },
  {
   "cell_type": "code",
   "execution_count": 37,
   "id": "sweet-bristol",
   "metadata": {
    "tags": [
     "remove_cell"
    ]
   },
   "outputs": [],
   "source": [
    "# Put Python loop output in a list\n",
    "# https://stackoverflow.com/questions/39322625/how-to-put-python-loop-output-in-a-list/39323039\n",
    "base_url = 'https://www.seek.com.au/job/'\n",
    "dest_url = []\n",
    "for myl in mylist:\n",
    "    dest_url.append(base_url + myl)\n",
    "#print(dest_url)"
   ]
  },
  {
   "cell_type": "markdown",
   "id": "exact-wealth",
   "metadata": {
    "tags": [
     "remove_cell"
    ]
   },
   "source": [
    "# Scrape job details"
   ]
  },
  {
   "cell_type": "code",
   "execution_count": 38,
   "id": "electrical-packet",
   "metadata": {
    "tags": [
     "remove_cell"
    ]
   },
   "outputs": [],
   "source": [
    "#dest_url\n",
    "test1000 = []\n",
    "for dtl in dest_url:\n",
    "    requestcheck = requests.get(dtl)\n",
    "    parser = BeautifulSoup(requestcheck.text, 'html.parser')\n",
    "    #test999s = parser.find_all('div', {'class' : 'FYwKg PrHFr _1EtT-_4'}, {'data-automation': \"job-detail-work-type\"})\n",
    "    test999s = parser.find_all('div', {'class' : 'FYwKg PrHFr _1EtT-_4'})\n",
    "    for t in test999s:\n",
    "        test1000.append(t.text)\n",
    "#pprint(test1000)"
   ]
  },
  {
   "cell_type": "code",
   "execution_count": 39,
   "id": "stylish-incident",
   "metadata": {
    "tags": [
     "remove_cell"
    ]
   },
   "outputs": [],
   "source": [
    "# splitting a list above into sublists after 'Full time' text\n",
    "test1001 = [i.strip().split(' ') for i in ' '.join(test1000).split('Full Time') if len(i) > 0 ]\n",
    "#print(test1001)\n",
    "\n",
    "# https://stackoverflow.com/questions/47604449/how-to-split-a-list-of-strings-into-sublists-of-strings-by-a-specific-string-ele"
   ]
  },
  {
   "cell_type": "code",
   "execution_count": 40,
   "id": "express-bloom",
   "metadata": {
    "tags": [
     "remove_cell"
    ]
   },
   "outputs": [],
   "source": [
    "# function to convert / combine list into string\n",
    "from itertools import chain\n",
    "\n",
    "def collapse(lst):\n",
    "    return ' ' .join(chain.from_iterable(lst))\n",
    "\n",
    "# out = collapse([[\"I\",\"am\"], [\"trying\", \"to\", \"convert\"], [\"listoflist\", \"intoastring.\"]])\n",
    "# print(out)"
   ]
  },
  {
   "cell_type": "code",
   "execution_count": 41,
   "id": "clear-flash",
   "metadata": {
    "tags": [
     "remove_cell"
    ]
   },
   "outputs": [],
   "source": [
    "# Push list through the function to convert to string\n",
    "out = collapse(test1001)\n",
    "#print(out)"
   ]
  },
  {
   "cell_type": "code",
   "execution_count": 42,
   "id": "numerous-miller",
   "metadata": {
    "tags": [
     "remove_cell"
    ]
   },
   "outputs": [],
   "source": [
    "# Converting string back to list after the text 'Sydney'\n",
    "jobdetails = [i.strip() for i in out[6:].split('Sydney') if not i.isspace()]\n",
    "#jobdetails"
   ]
  },
  {
   "cell_type": "markdown",
   "id": "verbal-worthy",
   "metadata": {
    "tags": [
     "remove_cell"
    ]
   },
   "source": [
    "# Putting it all together"
   ]
  },
  {
   "cell_type": "code",
   "execution_count": 43,
   "id": "caroline-healing",
   "metadata": {
    "tags": [
     "remove_input"
    ]
   },
   "outputs": [
    {
     "name": "stdout",
     "output_type": "stream",
     "text": [
      "Data Engineer at JobAdder Pty Ltd || Details: CBD, Inner West & Eastern Suburbs Information & Communication Technology Database Development & Administration|| Learn more at: https://www.seek.com.au/job/52549006\n",
      "Business Analyst - Lender Product at Lendi || Details: CBD, Inner West & Eastern Suburbs Information & Communication Technology Business/Systems Analysts|| Learn more at: https://www.seek.com.au/job/52364136\n",
      "Marketing Automation Specialist at Macquarie Group Limited || Details: CBD, Inner West & Eastern Suburbs Marketing & Communications Digital & Search Marketing|| Learn more at: https://www.seek.com.au/job/52564059\n",
      "Data and Analytics Manager at KBR - Kellogg Brown & Root Pty Ltd || Details: CBD, Inner West & Eastern Suburbs Information & Communication Technology Management|| Learn more at: https://www.seek.com.au/job/52564040\n",
      "Digital Marketing Specialist at Hempel (Wattyl) Australia || Details: North West & Hills District Marketing & Communications Digital & Search Marketing|| Learn more at: https://www.seek.com.au/job/52563956\n",
      "Full Stack .Net Developer at DWS Limited || Details: CBD, Inner West & Eastern Suburbs Information & Communication Technology Developers/Programmers up to $150K pkg (inc super) dep. on exp.|| Learn more at: https://www.seek.com.au/job/52563834\n",
      "Commercial Lawyer at WooliesX || Details: CBD, Inner West & Eastern Suburbs Legal Corporate & Commercial Law|| Learn more at: https://www.seek.com.au/job/52563684\n",
      "Principle Economist - Infrastructure Adviser at AECOM Australia PTY LTD || Details: CBD, Inner West & Eastern Suburbs Consulting & Strategy Strategy & Planning|| Learn more at: https://www.seek.com.au/job/52563681\n",
      "Payroll Analyst at Macquarie Group Limited || Details: CBD, Inner West & Eastern Suburbs Human Resources & Recruitment Remuneration & Benefits|| Learn more at: https://www.seek.com.au/job/52563615\n",
      "SALES MANAGER - Corporate Sponsorship at Acquire Talent Consulting || Details: North West & Hills District Sales Management Great base + company car + comms = OTE $170K+++|| Learn more at: https://www.seek.com.au/job/52563556\n",
      "Senior Project Manager - Fleet / Maintenance Facility Great base + company car + comms = OTE $170K+++ || Details: CBD, Inner West & Eastern Suburbs Government & Defence Government - State Attractive salary package|| Learn more at: https://www.seek.com.au/job/52563529\n",
      "Senior Project Manager - Fleet / Maintenance Facility at Transport for NSW || Details: CBD, Inner West & Eastern Suburbs Engineering Project Management Attractive salary package|| Learn more at: https://www.seek.com.au/job/52563528\n",
      "Full Stack Engineer at Transport for NSW || Details: CBD, Inner West & Eastern Suburbs Information & Communication Technology Engineering - Software|| Learn more at: https://www.seek.com.au/job/52563493\n",
      "FP&A Lead at Endeavour Group || Details: Accounting Management Accounting & Budgeting $140000.00 - $150000.00 p.a. + plus super and bonu|| Learn more at: https://www.seek.com.au/job/52563085\n",
      "EL1 Principal Research Analyst at Bluefin Resources Pty Limited || Details: CBD, Inner West & Eastern Suburbs Government & Defence Other $103,746 - $125,076 p.a. plus 15.4% super|| Learn more at: https://www.seek.com.au/job/52562882\n",
      "Investment Analyst - Property Developer. at Australian Criminal Intelligence Commission || Details: CBD, Inner West & Eastern Suburbs Real Estate & Property Analysts $100,000 - $129,999|| Learn more at: https://www.seek.com.au/job/52562767\n",
      "Scientist - Microbiology at Hunt App Pty Ltd || Details: North Shore & Northern Beaches Healthcare & Medical Pathology|| Learn more at: https://www.seek.com.au/job/52561887\n"
     ]
    }
   ],
   "source": [
    "for one, two, three, four in zip(job_titles, hirer, jobdetails, dest_url):\n",
    "    final = print(one, two, \"|| Details: \" + three + \"|| Learn more at: \" + four)"
   ]
  },
  {
   "cell_type": "code",
   "execution_count": 44,
   "id": "devoted-certification",
   "metadata": {
    "tags": [
     "remove_cell"
    ]
   },
   "outputs": [],
   "source": [
    "# https://nbconvert.readthedocs.io/en/latest/removing_cells.html\n",
    "# Removing cell in html\n",
    "\n",
    "from traitlets.config import Config\n",
    "import nbformat as nbf\n",
    "from nbconvert.exporters import HTMLExporter\n",
    "from nbconvert.preprocessors import TagRemovePreprocessor\n",
    "\n",
    "# Setup config\n",
    "c = Config()\n",
    "\n",
    "# Configure tag removal - be sure to tag your cells to remove  using the\n",
    "# words remove_cell to remove cells. You can also modify the code to use\n",
    "# a different tag word\n",
    "c.TagRemovePreprocessor.remove_cell_tags = (\"remove_cell\",)\n",
    "c.TagRemovePreprocessor.remove_all_outputs_tags = ('remove_output',)\n",
    "c.TagRemovePreprocessor.remove_input_tags = ('remove_input',)\n",
    "c.TagRemovePreprocessor.enabled = True\n",
    "\n",
    "# Configure and run out exporter\n",
    "c.HTMLExporter.preprocessors = [\"nbconvert.preprocessors.TagRemovePreprocessor\"]\n",
    "\n",
    "exporter = HTMLExporter(config=c)\n",
    "exporter.register_preprocessor(TagRemovePreprocessor(config=c),True)\n",
    "\n",
    "# Configure and run our exporter - returns a tuple - first element with html,\n",
    "# second with notebook metadata\n",
    "output = HTMLExporter(config=c).from_filename(\"a-SEEK_scrape_test.ipynb\")\n",
    "\n",
    "# Write to output html file\n",
    "with open(\"outputreadytoemail.html\",  \"w\", encoding='utf-8') as f:\n",
    "    f.write(output[0])"
   ]
  },
  {
   "cell_type": "code",
   "execution_count": 45,
   "id": "heard-monte",
   "metadata": {
    "tags": [
     "remove_cell"
    ]
   },
   "outputs": [],
   "source": [
    "# https://stackoverflow.com/questions/37592778/exporting-single-ipython-jupyter-notebook-cell-output"
   ]
  }
 ],
 "metadata": {
  "celltoolbar": "Tags",
  "kernelspec": {
   "display_name": "Python 3",
   "language": "python",
   "name": "python3"
  },
  "language_info": {
   "codemirror_mode": {
    "name": "ipython",
    "version": 3
   },
   "file_extension": ".py",
   "mimetype": "text/x-python",
   "name": "python",
   "nbconvert_exporter": "python",
   "pygments_lexer": "ipython3",
   "version": "3.8.6"
  }
 },
 "nbformat": 4,
 "nbformat_minor": 5
}
